{
 "cells": [
  {
   "cell_type": "code",
   "execution_count": 2,
   "metadata": {},
   "outputs": [],
   "source": [
    "# yeni kaggle\n",
    "import pydicom \n",
    "import cv2\n",
    "import matplotlib.pyplot as plt\n",
    "import glob\n",
    "import gdcm\n",
    "import pydicom\n",
    "import numpy as np\n",
    "import pandas as pd\n",
    "import seaborn as sns\n",
    "import matplotlib.pyplot as plt\n",
    "\n",
    "from tqdm.notebook import tqdm\n",
    "from joblib import Parallel, delayed \n",
    "from concurrent.futures import ProcessPoolExecutor, ThreadPoolExecutor\n",
    "import re\n",
    "import pydicom\n",
    "from skimage import exposure\n",
    "import os \n",
    "import skimage "
   ]
  },
  {
   "cell_type": "code",
   "execution_count": 21,
   "metadata": {},
   "outputs": [
    {
     "ename": "ImportError",
     "evalue": "IProgress not found. Please update jupyter and ipywidgets. See https://ipywidgets.readthedocs.io/en/stable/user_install.html",
     "output_type": "error",
     "traceback": [
      "\u001b[1;31m---------------------------------------------------------------------------\u001b[0m",
      "\u001b[1;31mImportError\u001b[0m                               Traceback (most recent call last)",
      "Cell \u001b[1;32mIn [21], line 70\u001b[0m\n\u001b[0;32m     68\u001b[0m all_images \u001b[39m=\u001b[39m glob\u001b[39m.\u001b[39mglob(\u001b[39m\"\u001b[39m\u001b[39mC:\u001b[39m\u001b[39m\\\\\u001b[39;00m\u001b[39mUsers\u001b[39m\u001b[39m\\\\\u001b[39;00m\u001b[39malper\u001b[39m\u001b[39m\\\\\u001b[39;00m\u001b[39mOneDrive\u001b[39m\u001b[39m\\\\\u001b[39;00m\u001b[39mMasaüstü\u001b[39m\u001b[39m\\\\\u001b[39;00m\u001b[39mbitirme\u001b[39m\u001b[39m\\\\\u001b[39;00m\u001b[39mrnsa_bitirme/*/*.png\u001b[39m\u001b[39m\"\u001b[39m)\n\u001b[0;32m     69\u001b[0m \u001b[39m# all_images = glob.glob('/kaggle/input/rsna-breast-cancer-detection/train_images/10006/*')\u001b[39;00m\n\u001b[1;32m---> 70\u001b[0m fit_all_images(all_images)\n",
      "Cell \u001b[1;32mIn [21], line 65\u001b[0m, in \u001b[0;36mfit_all_images\u001b[1;34m(all_images)\u001b[0m\n\u001b[0;32m     63\u001b[0m \u001b[39mdef\u001b[39;00m \u001b[39mfit_all_images\u001b[39m(all_images):\n\u001b[0;32m     64\u001b[0m     \u001b[39mwith\u001b[39;00m ThreadPoolExecutor(\u001b[39m4\u001b[39m) \u001b[39mas\u001b[39;00m p:\n\u001b[1;32m---> 65\u001b[0m         \u001b[39mfor\u001b[39;00m i \u001b[39min\u001b[39;00m tqdm(p\u001b[39m.\u001b[39;49mmap(fit_image, all_images), total\u001b[39m=\u001b[39;49m\u001b[39mlen\u001b[39;49m(all_images)):\n\u001b[0;32m     66\u001b[0m             \u001b[39mpass\u001b[39;00m\n",
      "File \u001b[1;32mc:\\Users\\alper\\anaconda3\\envs\\my\\lib\\site-packages\\tqdm\\notebook.py:243\u001b[0m, in \u001b[0;36mtqdm_notebook.__init__\u001b[1;34m(self, *args, **kwargs)\u001b[0m\n\u001b[0;32m    241\u001b[0m unit_scale \u001b[39m=\u001b[39m \u001b[39m1\u001b[39m \u001b[39mif\u001b[39;00m \u001b[39mself\u001b[39m\u001b[39m.\u001b[39munit_scale \u001b[39mis\u001b[39;00m \u001b[39mTrue\u001b[39;00m \u001b[39melse\u001b[39;00m \u001b[39mself\u001b[39m\u001b[39m.\u001b[39munit_scale \u001b[39mor\u001b[39;00m \u001b[39m1\u001b[39m\n\u001b[0;32m    242\u001b[0m total \u001b[39m=\u001b[39m \u001b[39mself\u001b[39m\u001b[39m.\u001b[39mtotal \u001b[39m*\u001b[39m unit_scale \u001b[39mif\u001b[39;00m \u001b[39mself\u001b[39m\u001b[39m.\u001b[39mtotal \u001b[39melse\u001b[39;00m \u001b[39mself\u001b[39m\u001b[39m.\u001b[39mtotal\n\u001b[1;32m--> 243\u001b[0m \u001b[39mself\u001b[39m\u001b[39m.\u001b[39mcontainer \u001b[39m=\u001b[39m \u001b[39mself\u001b[39;49m\u001b[39m.\u001b[39;49mstatus_printer(\u001b[39mself\u001b[39;49m\u001b[39m.\u001b[39;49mfp, total, \u001b[39mself\u001b[39;49m\u001b[39m.\u001b[39;49mdesc, \u001b[39mself\u001b[39;49m\u001b[39m.\u001b[39;49mncols)\n\u001b[0;32m    244\u001b[0m \u001b[39mself\u001b[39m\u001b[39m.\u001b[39mcontainer\u001b[39m.\u001b[39mpbar \u001b[39m=\u001b[39m proxy(\u001b[39mself\u001b[39m)\n\u001b[0;32m    245\u001b[0m \u001b[39mself\u001b[39m\u001b[39m.\u001b[39mdisplayed \u001b[39m=\u001b[39m \u001b[39mFalse\u001b[39;00m\n",
      "File \u001b[1;32mc:\\Users\\alper\\anaconda3\\envs\\my\\lib\\site-packages\\tqdm\\notebook.py:118\u001b[0m, in \u001b[0;36mtqdm_notebook.status_printer\u001b[1;34m(_, total, desc, ncols)\u001b[0m\n\u001b[0;32m    109\u001b[0m \u001b[39m# Fallback to text bar if there's no total\u001b[39;00m\n\u001b[0;32m    110\u001b[0m \u001b[39m# DEPRECATED: replaced with an 'info' style bar\u001b[39;00m\n\u001b[0;32m    111\u001b[0m \u001b[39m# if not total:\u001b[39;00m\n\u001b[1;32m   (...)\u001b[0m\n\u001b[0;32m    115\u001b[0m \n\u001b[0;32m    116\u001b[0m \u001b[39m# Prepare IPython progress bar\u001b[39;00m\n\u001b[0;32m    117\u001b[0m \u001b[39mif\u001b[39;00m IProgress \u001b[39mis\u001b[39;00m \u001b[39mNone\u001b[39;00m:  \u001b[39m# #187 #451 #558 #872\u001b[39;00m\n\u001b[1;32m--> 118\u001b[0m     \u001b[39mraise\u001b[39;00m \u001b[39mImportError\u001b[39;00m(WARN_NOIPYW)\n\u001b[0;32m    119\u001b[0m \u001b[39mif\u001b[39;00m total:\n\u001b[0;32m    120\u001b[0m     pbar \u001b[39m=\u001b[39m IProgress(\u001b[39mmin\u001b[39m\u001b[39m=\u001b[39m\u001b[39m0\u001b[39m, \u001b[39mmax\u001b[39m\u001b[39m=\u001b[39mtotal)\n",
      "\u001b[1;31mImportError\u001b[0m: IProgress not found. Please update jupyter and ipywidgets. See https://ipywidgets.readthedocs.io/en/stable/user_install.html"
     ]
    }
   ],
   "source": [
    "df = pd.read_csv('rsna_bitirme2.csv')\n",
    "\n",
    "SAVE_FOLDER = \"C:\\\\Users\\\\alper\\\\verisetleri\\\\rsna_bitirme\"\n",
    "os.makedirs(SAVE_FOLDER, exist_ok=True)\n",
    "def fit_image(fname, size=512):\n",
    "    # 1. Read, resize\n",
    "    \n",
    "    # dicom = pydicom.dcmread(fname)\n",
    "    # img = dicom.pixel_array\n",
    "    img = skimage.io.imread(fname)\n",
    "    img = (img - img.min()) / (img.max() - img.min())\n",
    "    # if dicom.PhotometricInterpretation == \"MONOCHROME1\":\n",
    "    #     img = 1 - img\n",
    "    # img = cv2.resize(img, (size, size))\n",
    "    \n",
    "    # 2. Crop\n",
    "    X = img\n",
    "    # Some images have narrow exterior \"frames\" that complicate selection of the main data. Cutting off the frame\n",
    "    X = X[5:-5, 5:-5]\n",
    "    X = (X * 255).astype(np.uint8)\n",
    "    \n",
    "    \n",
    "    # regions of non-empty pixels\n",
    "    output= cv2.connectedComponentsWithStats((X > 20).astype(np.uint8)[:, :], 8, cv2.CV_32S)\n",
    "\n",
    "    # stats.shape == (N, 5), where N is the number of regions, 5 dimensions correspond to:\n",
    "    # left, top, width, height, area_size\n",
    "    stats = output[2]\n",
    "\n",
    "    # finding max area which always corresponds to the breast data. \n",
    "    idx = stats[1:, 4].argmax() + 1\n",
    "    x1, y1, w, h = stats[idx][:4]\n",
    "    x2 = x1 + w\n",
    "    y2 = y1 + h\n",
    "\n",
    "    # cutting out the breast data\n",
    "    X_fit = X[y1: y2, x1: x2]\n",
    "    \n",
    "    gamma2=exposure.adjust_gamma(X_fit,2.5) \n",
    "    clahe = cv2.createCLAHE(clipLimit=2.0,tileGridSize=(8,8))\n",
    "    clahe1 = cv2.createCLAHE(clipLimit=2.0,tileGridSize=(8,8))\n",
    "\n",
    "    gamma2 = clahe.apply(gamma2) \n",
    "    gamma2 = clahe1.apply(gamma2) \n",
    "\n",
    "    img = cv2.resize(gamma2, (size, size))\n",
    "    # print('ok')\n",
    "    \n",
    "    patient = fname.split('\\\\')[-2]\n",
    "    image = fname.split('\\\\')[-1][:-4]\n",
    "    image = image.split('_')[1]\n",
    "\n",
    "    view = df[df['image_id'] == int(image)]['laterality'].values + df[df['image_id'] == int(image)]['view'].values\n",
    "\n",
    "    if view == 'RCC' or view == \"RMLO\":\n",
    "        img = cv2.flip(img, 1)\n",
    "\n",
    "    os.makedirs(SAVE_FOLDER + '\\\\' + str(patient), exist_ok=True)\n",
    "\n",
    "    cv2.imwrite(SAVE_FOLDER + '\\\\' + str(patient) + f\"\\\\{view}.png\",  img)\n",
    "    \n",
    "\n",
    "def fit_all_images(all_images):\n",
    "    with ThreadPoolExecutor(4) as p:\n",
    "        for i in tqdm(p.map(fit_image, all_images), total=len(all_images)):\n",
    "            pass\n",
    "\n",
    "all_images = glob.glob(\"C:\\\\Users\\\\alper\\\\OneDrive\\\\Masaüstü\\\\bitirme\\\\rnsa_bitirme/*/*.png\")\n",
    "\n",
    "fit_all_images(all_images)"
   ]
  },
  {
   "cell_type": "code",
   "execution_count": null,
   "metadata": {},
   "outputs": [],
   "source": []
  }
 ],
 "metadata": {
  "kernelspec": {
   "display_name": "my",
   "language": "python",
   "name": "python3"
  },
  "language_info": {
   "codemirror_mode": {
    "name": "ipython",
    "version": 3
   },
   "file_extension": ".py",
   "mimetype": "text/x-python",
   "name": "python",
   "nbconvert_exporter": "python",
   "pygments_lexer": "ipython3",
   "version": "3.9.15"
  },
  "orig_nbformat": 4,
  "vscode": {
   "interpreter": {
    "hash": "cf8524ec0bb02e8420ad8a2498a2aa94be98e1486a15284a173c801d4427669d"
   }
  }
 },
 "nbformat": 4,
 "nbformat_minor": 2
}
